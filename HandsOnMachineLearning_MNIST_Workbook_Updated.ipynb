{
 "cells": [
  {
   "cell_type": "code",
   "execution_count": 1,
   "id": "78c19079-4917-473d-9e68-2c15a5606179",
   "metadata": {},
   "outputs": [
    {
     "name": "stderr",
     "output_type": "stream",
     "text": [
      "C:\\Users\\Tori\\anaconda3\\envs\\ML\\lib\\site-packages\\sklearn\\datasets\\_openml.py:968: FutureWarning: The default value of `parser` will change from `'liac-arff'` to `'auto'` in 1.4. You can set `parser='auto'` to silence this warning. Therefore, an `ImportError` will be raised from 1.4 if the dataset is dense and pandas is not installed. Note that the pandas parser may return different data types. See the Notes Section in fetch_openml's API doc for details.\n",
      "  warn(\n"
     ]
    }
   ],
   "source": [
    "import sklearn\n",
    "import numpy as np\n",
    "import os\n",
    "\n",
    "# To plot pretty figures\n",
    "%matplotlib inline\n",
    "import matplotlib as mpl\n",
    "import matplotlib.pyplot as plt\n",
    "mpl.rc('axes', labelsize=14)\n",
    "mpl.rc('xtick', labelsize=12)\n",
    "mpl.rc('ytick', labelsize=12)\n",
    "\n",
    "# Where to save the figures\n",
    "PROJECT_ROOT_DIR = \".\"\n",
    "CHAPTER_ID = \"classification\"\n",
    "IMAGES_PATH = os.path.join(PROJECT_ROOT_DIR, \"images\", CHAPTER_ID)\n",
    "os.makedirs(IMAGES_PATH, exist_ok=True)\n",
    "\n",
    "def save_fig(fig_id, tight_layout=True, fig_extension=\"png\", resolution=300):\n",
    "    path = os.path.join(IMAGES_PATH, fig_id + \".\" + fig_extension)\n",
    "    print(\"Saving figure\", fig_id)\n",
    "    if tight_layout:\n",
    "        plt.tight_layout()\n",
    "    plt.savefig(path, format=fig_extension, dpi=resolution)\n",
    "    \n",
    "# Fetch MNIST\n",
    "from sklearn.datasets import fetch_openml\n",
    "mnist = fetch_openml('mnist_784', version=1, as_frame=False)\n",
    "X, y = mnist[\"data\"], mnist[\"target\"]\n",
    "\n",
    "def plot_digit(data):\n",
    "    image = data.reshape(28, 28)\n",
    "    plt.imshow(image, cmap = mpl.cm.binary,\n",
    "               interpolation=\"nearest\")\n",
    "    plt.axis(\"off\")\n",
    "        \n",
    "X_train, X_test, y_train, y_test = X[:60000], X[60000:], y[:60000], y[60000:]"
   ]
  },
  {
   "cell_type": "code",
   "execution_count": 2,
   "id": "8ebe0a18-a150-49dd-8aa6-c34fb14a7bb6",
   "metadata": {},
   "outputs": [],
   "source": [
    "#1 Try to build a classifier that achieves over 97% accuracy. "
   ]
  },
  {
   "cell_type": "code",
   "execution_count": 3,
   "id": "037924bd-011d-40b0-b487-44ad903a3160",
   "metadata": {},
   "outputs": [],
   "source": [
    "from sklearn.neighbors import KNeighborsClassifier\n",
    "\n",
    "knn_clf = KNeighborsClassifier()"
   ]
  },
  {
   "cell_type": "code",
   "execution_count": 4,
   "id": "97b6bc62-2fda-461d-a5ec-4e6b1a289c6b",
   "metadata": {},
   "outputs": [
    {
     "name": "stdout",
     "output_type": "stream",
     "text": [
      "Fitting 3 folds for each of 6 candidates, totalling 18 fits\n",
      "[CV 1/3] END ....n_neighbors=3, weights=uniform;, score=0.969 total time=   7.1s\n",
      "[CV 2/3] END ....n_neighbors=3, weights=uniform;, score=0.968 total time=   6.8s\n",
      "[CV 3/3] END ....n_neighbors=3, weights=uniform;, score=0.968 total time=   7.0s\n",
      "[CV 1/3] END ...n_neighbors=3, weights=distance;, score=0.970 total time=   6.2s\n",
      "[CV 2/3] END ...n_neighbors=3, weights=distance;, score=0.969 total time=   6.3s\n",
      "[CV 3/3] END ...n_neighbors=3, weights=distance;, score=0.969 total time=   6.2s\n",
      "[CV 1/3] END ....n_neighbors=4, weights=uniform;, score=0.966 total time=   6.6s\n",
      "[CV 2/3] END ....n_neighbors=4, weights=uniform;, score=0.966 total time=   6.7s\n",
      "[CV 3/3] END ....n_neighbors=4, weights=uniform;, score=0.967 total time=   6.6s\n",
      "[CV 1/3] END ...n_neighbors=4, weights=distance;, score=0.971 total time=   6.2s\n",
      "[CV 2/3] END ...n_neighbors=4, weights=distance;, score=0.970 total time=   6.2s\n",
      "[CV 3/3] END ...n_neighbors=4, weights=distance;, score=0.970 total time=   6.1s\n",
      "[CV 1/3] END ....n_neighbors=5, weights=uniform;, score=0.968 total time=   6.7s\n",
      "[CV 2/3] END ....n_neighbors=5, weights=uniform;, score=0.967 total time=   6.6s\n",
      "[CV 3/3] END ....n_neighbors=5, weights=uniform;, score=0.968 total time=   6.7s\n",
      "[CV 1/3] END ...n_neighbors=5, weights=distance;, score=0.969 total time=   6.2s\n",
      "[CV 2/3] END ...n_neighbors=5, weights=distance;, score=0.968 total time=   6.3s\n",
      "[CV 3/3] END ...n_neighbors=5, weights=distance;, score=0.969 total time=   6.3s\n",
      "KNeighborsClassifier(n_neighbors=4, weights='distance')\n"
     ]
    }
   ],
   "source": [
    "# Fine-tune the Model\n",
    "\n",
    "from sklearn.model_selection import GridSearchCV\n",
    "\n",
    "param_grid = [\n",
    "    {'weights': ['uniform', 'distance'], \n",
    "     'n_neighbors': [3,4,5]\n",
    "    },\n",
    "    ]\n",
    "grid_search = GridSearchCV(knn_clf, param_grid, cv=3, verbose=3)\n",
    "grid_search.fit(X_train, y_train)\n",
    "print(grid_search.best_estimator_)"
   ]
  },
  {
   "cell_type": "code",
   "execution_count": 5,
   "id": "d2ea2f97-1fda-44dc-84dc-95047c7dee71",
   "metadata": {},
   "outputs": [],
   "source": [
    "# Evaluate on Test Set\n",
    "\n",
    "final_model = grid_search.best_estimator_"
   ]
  },
  {
   "cell_type": "code",
   "execution_count": 6,
   "id": "05607d28-c1fc-4687-aa6e-5443f71fc538",
   "metadata": {},
   "outputs": [
    {
     "data": {
      "text/plain": [
       "0.9714"
      ]
     },
     "execution_count": 6,
     "metadata": {},
     "output_type": "execute_result"
    }
   ],
   "source": [
    "# Compute average F1 score across all labels\n",
    "from sklearn.metrics import accuracy_score\n",
    "\n",
    "y_pred = final_model.predict(X_test)\n",
    "accuracy_score(y_test, y_pred)"
   ]
  },
  {
   "cell_type": "code",
   "execution_count": 7,
   "id": "4b602026-c96c-4397-8f7f-358c0c65cef4",
   "metadata": {},
   "outputs": [
    {
     "data": {
      "text/plain": [
       "['final_model.pkl']"
      ]
     },
     "execution_count": 7,
     "metadata": {},
     "output_type": "execute_result"
    }
   ],
   "source": [
    "import joblib\n",
    "\n",
    "joblib.dump(final_model, \"final_model.pkl\")"
   ]
  },
  {
   "cell_type": "markdown",
   "id": "a3082128-812f-4263-abaa-3f3ec2814d9a",
   "metadata": {},
   "source": [
    "#2 Write a function that can shift an MNIST image in any direction (left, right, up,\n",
    "or down) by one pixel. Then, for each image in the training set, create four shifted\n",
    "copies (one per direction) and add them to the training set. Finally, train your\n",
    "best model on this expanded training set and measure its accuracy on the test set."
   ]
  },
  {
   "cell_type": "code",
   "execution_count": 9,
   "id": "2b5fc28e-5c7f-40af-8f67-a5b17cb9a5d2",
   "metadata": {},
   "outputs": [],
   "source": [
    "from scipy.ndimage import shift\n",
    "\n",
    "def set_expand(data, x, y, cval=0):\n",
    "    shift_up = shift(X_train, (y, 0))\n",
    "    shift_down = shift(X_train, (-y, 0))\n",
    "    shift_left = shift(X_train, (0, -x))\n",
    "    shift_right = shift(X_train, (0, x))\n",
    "    frames = [data, shift_right, shift_down, shift_left, shift_up]\n",
    "    expanded_set = np.concatenate(frames, axis=0)\n",
    "    y_train_mod = np.concatenate([y_train,y_train,y_train,y_train,y_train], axis=0)\n",
    "    shuffle_idx = np.random.permutation(len(expanded_set))\n",
    "    expanded_set = expanded_set[shuffle_idx]\n",
    "    y_train_mod = y_train_mod[shuffle_idx]\n",
    "    \n",
    "    return expanded_set, y_train_mod"
   ]
  },
  {
   "cell_type": "code",
   "execution_count": 10,
   "id": "ac6d1154-a682-4475-b70c-29183c068858",
   "metadata": {},
   "outputs": [],
   "source": [
    "X_train_mod, y_train_mod = set_expand(X_train, 1, 1)"
   ]
  },
  {
   "cell_type": "code",
   "execution_count": 11,
   "id": "1e89e010-33cc-4da0-b3e7-b5fb8f9a97cb",
   "metadata": {},
   "outputs": [
    {
     "data": {
      "text/html": [
       "<style>#sk-container-id-1 {color: black;background-color: white;}#sk-container-id-1 pre{padding: 0;}#sk-container-id-1 div.sk-toggleable {background-color: white;}#sk-container-id-1 label.sk-toggleable__label {cursor: pointer;display: block;width: 100%;margin-bottom: 0;padding: 0.3em;box-sizing: border-box;text-align: center;}#sk-container-id-1 label.sk-toggleable__label-arrow:before {content: \"▸\";float: left;margin-right: 0.25em;color: #696969;}#sk-container-id-1 label.sk-toggleable__label-arrow:hover:before {color: black;}#sk-container-id-1 div.sk-estimator:hover label.sk-toggleable__label-arrow:before {color: black;}#sk-container-id-1 div.sk-toggleable__content {max-height: 0;max-width: 0;overflow: hidden;text-align: left;background-color: #f0f8ff;}#sk-container-id-1 div.sk-toggleable__content pre {margin: 0.2em;color: black;border-radius: 0.25em;background-color: #f0f8ff;}#sk-container-id-1 input.sk-toggleable__control:checked~div.sk-toggleable__content {max-height: 200px;max-width: 100%;overflow: auto;}#sk-container-id-1 input.sk-toggleable__control:checked~label.sk-toggleable__label-arrow:before {content: \"▾\";}#sk-container-id-1 div.sk-estimator input.sk-toggleable__control:checked~label.sk-toggleable__label {background-color: #d4ebff;}#sk-container-id-1 div.sk-label input.sk-toggleable__control:checked~label.sk-toggleable__label {background-color: #d4ebff;}#sk-container-id-1 input.sk-hidden--visually {border: 0;clip: rect(1px 1px 1px 1px);clip: rect(1px, 1px, 1px, 1px);height: 1px;margin: -1px;overflow: hidden;padding: 0;position: absolute;width: 1px;}#sk-container-id-1 div.sk-estimator {font-family: monospace;background-color: #f0f8ff;border: 1px dotted black;border-radius: 0.25em;box-sizing: border-box;margin-bottom: 0.5em;}#sk-container-id-1 div.sk-estimator:hover {background-color: #d4ebff;}#sk-container-id-1 div.sk-parallel-item::after {content: \"\";width: 100%;border-bottom: 1px solid gray;flex-grow: 1;}#sk-container-id-1 div.sk-label:hover label.sk-toggleable__label {background-color: #d4ebff;}#sk-container-id-1 div.sk-serial::before {content: \"\";position: absolute;border-left: 1px solid gray;box-sizing: border-box;top: 0;bottom: 0;left: 50%;z-index: 0;}#sk-container-id-1 div.sk-serial {display: flex;flex-direction: column;align-items: center;background-color: white;padding-right: 0.2em;padding-left: 0.2em;position: relative;}#sk-container-id-1 div.sk-item {position: relative;z-index: 1;}#sk-container-id-1 div.sk-parallel {display: flex;align-items: stretch;justify-content: center;background-color: white;position: relative;}#sk-container-id-1 div.sk-item::before, #sk-container-id-1 div.sk-parallel-item::before {content: \"\";position: absolute;border-left: 1px solid gray;box-sizing: border-box;top: 0;bottom: 0;left: 50%;z-index: -1;}#sk-container-id-1 div.sk-parallel-item {display: flex;flex-direction: column;z-index: 1;position: relative;background-color: white;}#sk-container-id-1 div.sk-parallel-item:first-child::after {align-self: flex-end;width: 50%;}#sk-container-id-1 div.sk-parallel-item:last-child::after {align-self: flex-start;width: 50%;}#sk-container-id-1 div.sk-parallel-item:only-child::after {width: 0;}#sk-container-id-1 div.sk-dashed-wrapped {border: 1px dashed gray;margin: 0 0.4em 0.5em 0.4em;box-sizing: border-box;padding-bottom: 0.4em;background-color: white;}#sk-container-id-1 div.sk-label label {font-family: monospace;font-weight: bold;display: inline-block;line-height: 1.2em;}#sk-container-id-1 div.sk-label-container {text-align: center;}#sk-container-id-1 div.sk-container {/* jupyter's `normalize.less` sets `[hidden] { display: none; }` but bootstrap.min.css set `[hidden] { display: none !important; }` so we also need the `!important` here to be able to override the default hidden behavior on the sphinx rendered scikit-learn.org. See: https://github.com/scikit-learn/scikit-learn/issues/21755 */display: inline-block !important;position: relative;}#sk-container-id-1 div.sk-text-repr-fallback {display: none;}</style><div id=\"sk-container-id-1\" class=\"sk-top-container\"><div class=\"sk-text-repr-fallback\"><pre>KNeighborsClassifier(n_neighbors=4, weights=&#x27;distance&#x27;)</pre><b>In a Jupyter environment, please rerun this cell to show the HTML representation or trust the notebook. <br />On GitHub, the HTML representation is unable to render, please try loading this page with nbviewer.org.</b></div><div class=\"sk-container\" hidden><div class=\"sk-item\"><div class=\"sk-estimator sk-toggleable\"><input class=\"sk-toggleable__control sk-hidden--visually\" id=\"sk-estimator-id-1\" type=\"checkbox\" checked><label for=\"sk-estimator-id-1\" class=\"sk-toggleable__label sk-toggleable__label-arrow\">KNeighborsClassifier</label><div class=\"sk-toggleable__content\"><pre>KNeighborsClassifier(n_neighbors=4, weights=&#x27;distance&#x27;)</pre></div></div></div></div></div>"
      ],
      "text/plain": [
       "KNeighborsClassifier(n_neighbors=4, weights='distance')"
      ]
     },
     "execution_count": 11,
     "metadata": {},
     "output_type": "execute_result"
    }
   ],
   "source": [
    "import joblib\n",
    "knn_clf_mod = joblib.load('final_model.pkl')\n",
    "\n",
    "knn_clf_mod.fit(X_train_mod, y_train_mod)"
   ]
  },
  {
   "cell_type": "code",
   "execution_count": 12,
   "id": "f133f79f-15a1-46d8-877c-424063c4b3b9",
   "metadata": {},
   "outputs": [
    {
     "data": {
      "text/plain": [
       "0.9001"
      ]
     },
     "execution_count": 12,
     "metadata": {},
     "output_type": "execute_result"
    }
   ],
   "source": [
    "y_pred_mod = knn_clf_mod.predict(X_test) \n",
    "accuracy_score(y_test, y_pred_mod)"
   ]
  },
  {
   "cell_type": "code",
   "execution_count": null,
   "id": "2f70bdf2-c09f-4e10-b05c-b5764b4c542c",
   "metadata": {},
   "outputs": [],
   "source": []
  }
 ],
 "metadata": {
  "kernelspec": {
   "display_name": "Python 3 (ipykernel)",
   "language": "python",
   "name": "python3"
  },
  "language_info": {
   "codemirror_mode": {
    "name": "ipython",
    "version": 3
   },
   "file_extension": ".py",
   "mimetype": "text/x-python",
   "name": "python",
   "nbconvert_exporter": "python",
   "pygments_lexer": "ipython3",
   "version": "3.10.10"
  }
 },
 "nbformat": 4,
 "nbformat_minor": 5
}
